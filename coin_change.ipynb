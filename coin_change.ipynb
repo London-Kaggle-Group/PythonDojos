{
 "cells": [
  {
   "cell_type": "markdown",
   "metadata": {},
   "source": [
    "Code used to solve the HackerRank problem of coin change, https://www.hackerrank.com/challenges/coin-change/problem"
   ]
  },
  {
   "cell_type": "code",
   "execution_count": 79,
   "metadata": {},
   "outputs": [],
   "source": [
    "coin_mem = {}\n",
    "def getWays(n, c):\n",
    "    if n == 0:\n",
    "        coin_mem[(n,tuple(c))] = 1\n",
    "        return 1\n",
    "    elif len(c) == 0:\n",
    "        return 0\n",
    "    else:\n",
    "        if n > 0:\n",
    "            if ((n,tuple(c)) not in coin_mem):\n",
    "                coin_mem[(n,tuple(c))] = getWays(n - c[0], c) + getWays(n, c[1:])\n",
    "            return coin_mem[(n,tuple(c))]\n",
    "        else:\n",
    "            return 0"
   ]
  },
  {
   "cell_type": "code",
   "execution_count": null,
   "metadata": {
    "collapsed": true
   },
   "outputs": [],
   "source": [
    "# Code from HackerRank\n",
    "# If trying this out, might be worthwhile adding the following after the line starting c = list(...\n",
    "# c.sort()\n",
    "# c.reverse()\n",
    "n, m = input().strip().split(' ')\n",
    "n, m = [int(n), int(m)]\n",
    "c = list(map(int, input().strip().split(' ')))\n",
    "# Print the number of ways of making change for 'n' units using coins having the values given by 'c'\n",
    "ways = getWays(n, c)\n",
    "print(ways)"
   ]
  },
  {
   "cell_type": "code",
   "execution_count": null,
   "metadata": {
    "collapsed": true
   },
   "outputs": [],
   "source": []
  }
 ],
 "metadata": {
  "kernelspec": {
   "display_name": "Python 3",
   "language": "python",
   "name": "python3"
  },
  "language_info": {
   "codemirror_mode": {
    "name": "ipython",
    "version": 3
   },
   "file_extension": ".py",
   "mimetype": "text/x-python",
   "name": "python",
   "nbconvert_exporter": "python",
   "pygments_lexer": "ipython3",
   "version": "3.6.2"
  }
 },
 "nbformat": 4,
 "nbformat_minor": 2
}
